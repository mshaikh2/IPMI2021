{
 "cells": [
  {
   "cell_type": "code",
   "execution_count": 11,
   "metadata": {},
   "outputs": [],
   "source": [
    "import torch\n",
    "import torch.utils.data as data\n",
    "import torchvision.transforms as transforms\n",
    "import torchvision.transforms.functional as TF\n",
    "from torch.utils.data import Dataset\n",
    "import torchvision as tv\n",
    "\n",
    "import os,sys\n",
    "import pandas as pd\n",
    "import numpy as np\n",
    "import pickle\n",
    "from PIL import Image\n",
    "# import spacy\n",
    "# import scispacy\n",
    "from tqdm import tqdm \n",
    "# from nltk.tokenize import RegexpTokenizer\n",
    "# from transformers import BertTokenizer"
   ]
  },
  {
   "cell_type": "code",
   "execution_count": 2,
   "metadata": {},
   "outputs": [],
   "source": [
    "data_dict = [\n",
    "    {'img':'files/p19/p19017919/s50797181/8e5f8df3-4248d575-fd16f8c1-1c69065a-1ac199e9.dcm', 'txt':1},\n",
    "    {'img':'files/p18/p18441078/s58044074/15e60dc7-6493889f-d2cb9dba-2c860709-f171bc98.dcm', 'txt':2},\n",
    "    {'img':'files/p11/p11673861/s53517205/0491306a-d44bb1cd-36678cdf-ef64aa11-ee9897a2.dcm', 'txt':3},\n",
    "    {'img':'files/p15/p15398519/s52897917/6f9899f3-652a0fe6-cb32f8b1-3afb0c85-5a3929f0.dcm', 'txt':4},\n",
    "    {'img':'files/p13/p13118941/s54144739/67b68818-61703959-6321083a-ecf0ff32-addd5bc8.dcm', 'txt':5},\n",
    "    {'img':'files/p13/p13660399/s52532898/2f2d7a89-161059ab-bf24aaa4-c15f7abb-ea408fee.dcm', 'txt':6},\n",
    "    {'img':'files/p14/p14882082/s59150331/5009240f-7dc4006c-4a69d332-00051c01-9179f001.dcm', 'txt':7},\n",
    "    {'img':'files/p17/p17198774/s54162995/2d7e35ed-6f80d557-740804a5-c1cdc6f0-5729e6a6.dcm', 'txt':8},\n",
    "    {'img':'files/p17/p17199342/s59731194/b3e8c46c-99efe614-59b11837-a870ab41-8e30ceea_err.dcm', 'txt':9},\n",
    "    {'img':'files/p18/p18446282/s54914372/32b63c6b-837955f2-62cd29e6-834d5132-6f9c67d8_err.dcm', 'txt':10},\n",
    "    {'img':'files/p11/p11285576/s54979966/03b2e67c-70631ff8-685825fb-6c989456-621ca64d.dcm', 'txt':11},\n",
    "    {'img':'files/p11/p11378535/s50374044/db9511e3-ee0359ab-489c3556-4a9b2277-c0bf0369.dcm', 'txt':12},\n",
    "#     {'img':'files/p14/p14887088/s54257662/1bc85033-355accce-e8d0ed50-78188cd3-dac92e86.dcm', 'txt':13},\n",
    "]\n",
    "\n",
    "\n",
    "MAX_DIM = 64\n",
    "\n",
    "class TestDataset(Dataset):\n",
    "    def __init__(self, dataset):\n",
    "        super().__init__()\n",
    "        \n",
    "        self.root = '/media/MyDataStor2/MIMIC-CXR/physionet.org/files/mimic-cxr-jpg/2.0.0'\n",
    "        self.transform = tv.transforms.Compose([\n",
    "                                        tv.transforms.RandomCrop(MAX_DIM),\n",
    "                                        tv.transforms.ToTensor()])\n",
    "        self.datadict = dataset\n",
    "\n",
    "    def __len__(self):\n",
    "        return len(self.datadict)\n",
    "\n",
    "    def __getitem__(self, idx):\n",
    "        \n",
    "        image_path = os.path.join(self.root, self.datadict[idx]['img'].replace('dcm','jpg'))\n",
    "\n",
    "        try:\n",
    "            image = Image.open(image_path)\n",
    "            if self.transform:\n",
    "                image = self.transform(image)\n",
    "\n",
    "        except Exception as ex:\n",
    "            print(ex)\n",
    "            print(image_path)\n",
    "            return None\n",
    "        \n",
    "        text = self.datadict[idx]['txt']\n",
    "\n",
    "        return image, text, os.path.basename(image_path)"
   ]
  },
  {
   "cell_type": "code",
   "execution_count": 3,
   "metadata": {},
   "outputs": [],
   "source": [
    "def collate_fn_ignore_none(batch):\n",
    "    batch = list(filter(lambda x: x is not None, batch))\n",
    "    return torch.utils.data.dataloader.default_collate(batch)"
   ]
  },
  {
   "cell_type": "code",
   "execution_count": 4,
   "metadata": {},
   "outputs": [],
   "source": [
    "testset = TestDataset(data_dict)\n",
    "# print(len(testset))\n",
    "testloader = torch.utils.data.DataLoader(testset, collate_fn=collate_fn_ignore_none, shuffle=True, batch_size=3, num_workers=2)"
   ]
  },
  {
   "cell_type": "code",
   "execution_count": 5,
   "metadata": {},
   "outputs": [
    {
     "name": "stdout",
     "output_type": "stream",
     "text": [
      "[Errno 2] No such file or directory: '/media/MyDataStor2/MIMIC-CXR/physionet.org/files/mimic-cxr-jpg/2.0.0/files/p17/p17199342/s59731194/b3e8c46c-99efe614-59b11837-a870ab41-8e30ceea_err.jpg'\n",
      "/media/MyDataStor2/MIMIC-CXR/physionet.org/files/mimic-cxr-jpg/2.0.0/files/p17/p17199342/s59731194/b3e8c46c-99efe614-59b11837-a870ab41-8e30ceea_err.jpg\n",
      "[Errno 2] No such file or directory: '/media/MyDataStor2/MIMIC-CXR/physionet.org/files/mimic-cxr-jpg/2.0.0/files/p18/p18446282/s54914372/32b63c6b-837955f2-62cd29e6-834d5132-6f9c67d8_err.jpg'\n",
      "/media/MyDataStor2/MIMIC-CXR/physionet.org/files/mimic-cxr-jpg/2.0.0/files/p18/p18446282/s54914372/32b63c6b-837955f2-62cd29e6-834d5132-6f9c67d8_err.jpg\n",
      "torch.Size([3, 1, 64, 64])\n",
      "torch.Size([3])\n",
      "3\n",
      "08 - 2d7e35ed-6f80d557-740804a5-c1cdc6f0-5729e6a6.jpg\n",
      "03 - 0491306a-d44bb1cd-36678cdf-ef64aa11-ee9897a2.jpg\n",
      "06 - 2f2d7a89-161059ab-bf24aaa4-c15f7abb-ea408fee.jpg\n",
      "torch.Size([2, 1, 64, 64])\n",
      "torch.Size([2])\n",
      "2\n",
      "02 - 15e60dc7-6493889f-d2cb9dba-2c860709-f171bc98.jpg\n",
      "01 - 8e5f8df3-4248d575-fd16f8c1-1c69065a-1ac199e9.jpg\n",
      "torch.Size([3, 1, 64, 64])\n",
      "torch.Size([3])\n",
      "3\n",
      "11 - 03b2e67c-70631ff8-685825fb-6c989456-621ca64d.jpg\n",
      "07 - 5009240f-7dc4006c-4a69d332-00051c01-9179f001.jpg\n",
      "05 - 67b68818-61703959-6321083a-ecf0ff32-addd5bc8.jpg\n",
      "torch.Size([2, 1, 64, 64])\n",
      "torch.Size([2])\n",
      "2\n",
      "04 - 6f9899f3-652a0fe6-cb32f8b1-3afb0c85-5a3929f0.jpg\n",
      "12 - db9511e3-ee0359ab-489c3556-4a9b2277-c0bf0369.jpg\n"
     ]
    }
   ],
   "source": [
    "for image, text, pth in testloader:\n",
    "    print(image.shape, text.shape, len(pth), sep='\\n')\n",
    "    for i in range(len(pth)):\n",
    "        print('%02d - %s' % (text[i], pth[i]))"
   ]
  },
  {
   "cell_type": "code",
   "execution_count": 31,
   "metadata": {},
   "outputs": [
    {
     "data": {
      "text/plain": [
       "(3050, 697)"
      ]
     },
     "execution_count": 31,
     "metadata": {},
     "output_type": "execute_result"
    }
   ],
   "source": [
    "pths = '/media/MyDataStor2/MIMIC-CXR/physionet.org/files/mimic-cxr-jpg/2.0.0/files/p11/p11285576/s54979966/03b2e67c-70631ff8-685825fb-6c989456-621ca64d.jpg'\n",
    "img = Image.open(pths)\n",
    "img.size"
   ]
  },
  {
   "cell_type": "markdown",
   "metadata": {},
   "source": [
    "## Check dataloader"
   ]
  },
  {
   "cell_type": "code",
   "execution_count": 12,
   "metadata": {},
   "outputs": [],
   "source": [
    "from dataset_mimic import build_dataset\n",
    "from misc.config import Config\n",
    "\n",
    "cfg  = Config()"
   ]
  },
  {
   "cell_type": "code",
   "execution_count": 13,
   "metadata": {},
   "outputs": [],
   "source": [
    "data_set = build_dataset('train', cfg)\n",
    "train_loader = torch.utils.data.DataLoader(\n",
    "                data_set, batch_size=cfg.batch_size, \n",
    "                collate_fn=collate_fn_ignore_none, drop_last=True,\n",
    "                shuffle=True, num_workers=cfg.num_workers)"
   ]
  },
  {
   "cell_type": "code",
   "execution_count": 14,
   "metadata": {},
   "outputs": [
    {
     "name": "stdout",
     "output_type": "stream",
     "text": [
      "torch.Size([32, 1, 2048, 2048]) torch.Size([32, 257]) torch.Size([32, 257]) torch.Size([32]) 32\n",
      "torch.Size([32, 1, 2048, 2048]) torch.Size([32, 257]) torch.Size([32, 257]) torch.Size([32]) 32\n"
     ]
    }
   ],
   "source": [
    "cnt = 0\n",
    "for image , caption, cap_mask, uid, cap_lens in train_loader:\n",
    "    print(image.shape, caption.shape, cap_mask.shape, cap_lens.shape, len(uid))\n",
    "    cnt += 1\n",
    "    if cnt == 1:\n",
    "        break"
   ]
  },
  {
   "cell_type": "code",
   "execution_count": 25,
   "metadata": {},
   "outputs": [
    {
     "name": "stdout",
     "output_type": "stream",
     "text": [
      "tensor(178)\n",
      "tensor([   1,  509,  450,  599,   73,   40,   22,   74,  239,  257,   43,  120,\n",
      "          95,   22,  121,  174,  397,  462,  412,  487,   42,  427,  310,   22,\n",
      "         463,   91,  676,  412,  487,  107,   22,   35,  414,   91,   79,  707,\n",
      "         399,  487,  107,   22,  270,  871, 1189, 1190,   22,   79,   74,  412,\n",
      "         124,  125,  424,  425,   43,  124,   91,  591,  755,  590,  107,   22,\n",
      "         514, 1471,   91,   29,   74,  412,    5, 3403, 3404,   43,  281,  591,\n",
      "         733,   45,  107,   22,   29,  214,  316,   79,   99,   12,    5,  153,\n",
      "         351,   79,  270,  172,  341,    5,  156,  434,   79,  365, 6412,    5,\n",
      "         268,  153,   22,   29,   30,    5,   57,   43,    4,    5,    6,  126,\n",
      "          29,    9,   10,   11,   29,   12,   22,   82,   43,   51,   53,   45,\n",
      "         268,  153,   91,   29, 1393, 1388,   43,  480,   45,  153,  107,  446,\n",
      "          29,   64, 1074,   77,    5,  268,  153,   42,  156,  351,   79,  270,\n",
      "         172,  341,   42,   22,   79,   64,   74,  412,  124,  125,  424,  425,\n",
      "          43,   91,  591,  755,    5,  590,  107,   22,  514, 1471,   42,  316,\n",
      "          79,   99,   12,   43,   79,   54, 6412,    5,  153,    2])\n",
      "[CLS] portable ap direct view of the chest was reviewed and compared to the prior study an endotracheal tube ends number cm above the carina a dobbhoff tube ends in the upper stomach a right subclavian line ends in the lower superior vena cava the right chest tube has been pulled back and has a side port located in the soft tissues a left chest tube is obliquely oriented and all side ports are in the left hemithorax moderate right apical pneumothorax is unchanged severe right lower lobe atelectasis is new large right parenchymal hemorrahge is relatively unchanged the left lung is clear and there is no significant left pleural effusion or left pneumothorax the heart and mediastinal contours are relatively unchanged a left pectoral defibrillator and pacer are unchanged in position left sided subcutaneous air is relatively unchanged number new severe right lower lobe atelectasis number the right sided chest tube has been pulled back and a side port is located in the soft tissues number moderate right apical pneumothorax and right pulmonary hemorrahge is unchanged [SEP]\n"
     ]
    }
   ],
   "source": [
    "p = 1\n",
    "print(cap_lens[p])\n",
    "print(caption[p, cap_mask[p]])\n",
    "print(' '.join([idx2word[x.item()] for x in caption[p, cap_mask[p]]]))"
   ]
  },
  {
   "cell_type": "code",
   "execution_count": 17,
   "metadata": {},
   "outputs": [],
   "source": [
    "data_dir = '/media/MyDataStor2/MIMIC-CXR/'\n",
    "with open(os.path.join(data_dir,'lm_reports/mimic_dataset_mit_normalized.pkl'),'rb') as f:\n",
    "    datasets = pickle.load(f)"
   ]
  },
  {
   "cell_type": "code",
   "execution_count": 19,
   "metadata": {},
   "outputs": [],
   "source": [
    "word2idx = datasets['word2idx']\n",
    "idx2word = datasets['idx2word']"
   ]
  },
  {
   "cell_type": "code",
   "execution_count": null,
   "metadata": {},
   "outputs": [],
   "source": []
  }
 ],
 "metadata": {
  "kernelspec": {
   "display_name": "Python 3",
   "language": "python",
   "name": "python3"
  },
  "language_info": {
   "codemirror_mode": {
    "name": "ipython",
    "version": 3
   },
   "file_extension": ".py",
   "mimetype": "text/x-python",
   "name": "python",
   "nbconvert_exporter": "python",
   "pygments_lexer": "ipython3",
   "version": "3.7.7"
  }
 },
 "nbformat": 4,
 "nbformat_minor": 4
}
